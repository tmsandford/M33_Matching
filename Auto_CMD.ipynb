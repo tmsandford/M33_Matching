{
  "nbformat": 4,
  "nbformat_minor": 0,
  "metadata": {
    "colab": {
      "name": "Auto_CMD.ipynb",
      "provenance": [],
      "collapsed_sections": [],
      "authorship_tag": "ABX9TyM/60ymRhr3FV20RvMomODj",
      "include_colab_link": true
    },
    "kernelspec": {
      "name": "python3",
      "display_name": "Python 3"
    },
    "language_info": {
      "name": "python"
    }
  },
  "cells": [
    {
      "cell_type": "markdown",
      "metadata": {
        "id": "view-in-github",
        "colab_type": "text"
      },
      "source": [
        "<a href=\"https://colab.research.google.com/github/tmsandford/M33_Matching/blob/main/Auto_CMD.ipynb\" target=\"_parent\"><img src=\"https://colab.research.google.com/assets/colab-badge.svg\" alt=\"Open In Colab\"/></a>"
      ]
    },
    {
      "cell_type": "code",
      "metadata": {
        "id": "RhahLPMSlZwC"
      },
      "source": [
        "%%capture\n",
        "!pip install --upgrade pip\n",
        "!pip install vaex\n",
        "!pip install -Iv ipython==7.0.0\n",
        "!pip install astroquery\n",
        "!sudo pip install numpy --upgrade --ignore-installed\n",
        "\n",
        "#Restart runtime!"
      ],
      "execution_count": 1,
      "outputs": []
    },
    {
      "cell_type": "code",
      "metadata": {
        "id": "OApnFTEulmL2"
      },
      "source": [
        "import sys\n",
        "from astroquery.irsa import Irsa\n",
        "import numpy as np\n",
        "from astropy import units as u\n",
        "from astropy.coordinates import SkyCoord\n",
        "import matplotlib as mpl\n",
        "import matplotlib.pyplot as plt\n",
        "import pandas as pd\n",
        "from ipywidgets import interact, fixed\n",
        "import vaex"
      ],
      "execution_count": 3,
      "outputs": []
    },
    {
      "cell_type": "code",
      "metadata": {
        "colab": {
          "base_uri": "https://localhost:8080/"
        },
        "id": "UATERKjPlrDZ",
        "outputId": "fd2825ad-937c-4bbe-ba27-81713048e435"
      },
      "source": [
        "from google.colab import drive\n",
        "drive.mount('/content/gdrive',force_remount=True)\n",
        "sys.path.append('/content/gdrive/My Drive/Colab Notebooks/')\n",
        "datadir = '/content/gdrive/My Drive/Colab Notebooks/'"
      ],
      "execution_count": 4,
      "outputs": [
        {
          "output_type": "stream",
          "text": [
            "Mounted at /content/gdrive\n"
          ],
          "name": "stdout"
        }
      ]
    },
    {
      "cell_type": "code",
      "metadata": {
        "id": "eEHQqFvtmJZx"
      },
      "source": [
        "def f_to_mag(flux):\n",
        "    \"\"\"Converts unWISE flux to Vega magnitude\"\"\"\n",
        "    result = 22.5 - 2.5 * np.log10(flux)\n",
        "    return result"
      ],
      "execution_count": 6,
      "outputs": []
    },
    {
      "cell_type": "code",
      "metadata": {
        "id": "F2h7rBMLmVxI"
      },
      "source": [
        ""
      ],
      "execution_count": null,
      "outputs": []
    }
  ]
}