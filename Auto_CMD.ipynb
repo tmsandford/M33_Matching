{
  "nbformat": 4,
  "nbformat_minor": 0,
  "metadata": {
    "colab": {
      "name": "Auto_CMD.ipynb",
      "provenance": [],
      "collapsed_sections": [],
      "authorship_tag": "ABX9TyMepnnQ5u6BeFHghgsokC5O",
      "include_colab_link": true
    },
    "kernelspec": {
      "name": "python3",
      "display_name": "Python 3"
    },
    "language_info": {
      "name": "python"
    },
    "widgets": {
      "application/vnd.jupyter.widget-state+json": {
        "b8080307d3684771a44fc7fffac88a6a": {
          "model_module": "@jupyter-widgets/controls",
          "model_name": "VBoxModel",
          "state": {
            "_view_name": "VBoxView",
            "_dom_classes": [
              "widget-interact"
            ],
            "_model_name": "VBoxModel",
            "_view_module": "@jupyter-widgets/controls",
            "_model_module_version": "1.5.0",
            "_view_count": null,
            "_view_module_version": "1.5.0",
            "box_style": "",
            "layout": "IPY_MODEL_b439e86842f54ee0a827146bb904363b",
            "_model_module": "@jupyter-widgets/controls",
            "children": [
              "IPY_MODEL_5f70c4ed3bc7418f8d3046222bcc9365",
              "IPY_MODEL_88551cee32534e7a834ac80d5d787132",
              "IPY_MODEL_6c452909ffee4495ba02dc7a161829de",
              "IPY_MODEL_105524f92a0b4e82b3ad3bb77d09e27e"
            ]
          }
        },
        "b439e86842f54ee0a827146bb904363b": {
          "model_module": "@jupyter-widgets/base",
          "model_name": "LayoutModel",
          "state": {
            "_view_name": "LayoutView",
            "grid_template_rows": null,
            "right": null,
            "justify_content": null,
            "_view_module": "@jupyter-widgets/base",
            "overflow": null,
            "_model_module_version": "1.2.0",
            "_view_count": null,
            "flex_flow": null,
            "width": null,
            "min_width": null,
            "border": null,
            "align_items": null,
            "bottom": null,
            "_model_module": "@jupyter-widgets/base",
            "top": null,
            "grid_column": null,
            "overflow_y": null,
            "overflow_x": null,
            "grid_auto_flow": null,
            "grid_area": null,
            "grid_template_columns": null,
            "flex": null,
            "_model_name": "LayoutModel",
            "justify_items": null,
            "grid_row": null,
            "max_height": null,
            "align_content": null,
            "visibility": null,
            "align_self": null,
            "height": null,
            "min_height": null,
            "padding": null,
            "grid_auto_rows": null,
            "grid_gap": null,
            "max_width": null,
            "order": null,
            "_view_module_version": "1.2.0",
            "grid_template_areas": null,
            "object_position": null,
            "object_fit": null,
            "grid_auto_columns": null,
            "margin": null,
            "display": null,
            "left": null
          }
        },
        "5f70c4ed3bc7418f8d3046222bcc9365": {
          "model_module": "@jupyter-widgets/controls",
          "model_name": "IntSliderModel",
          "state": {
            "_view_name": "IntSliderView",
            "style": "IPY_MODEL_efc335e37c804d7cae15eba04a88dd05",
            "_dom_classes": [],
            "description": "GridSize",
            "step": 1,
            "_model_name": "IntSliderModel",
            "orientation": "horizontal",
            "max": 600,
            "_view_module": "@jupyter-widgets/controls",
            "_model_module_version": "1.5.0",
            "value": 100,
            "_view_count": null,
            "disabled": false,
            "_view_module_version": "1.5.0",
            "min": 50,
            "continuous_update": true,
            "readout_format": "d",
            "description_tooltip": null,
            "readout": true,
            "_model_module": "@jupyter-widgets/controls",
            "layout": "IPY_MODEL_65e5b86fcb404a5f9da04b7b985cb333"
          }
        },
        "88551cee32534e7a834ac80d5d787132": {
          "model_module": "@jupyter-widgets/controls",
          "model_name": "FloatSliderModel",
          "state": {
            "_view_name": "FloatSliderView",
            "style": "IPY_MODEL_5360c63f30d64a66a31c720629674b72",
            "_dom_classes": [],
            "description": "height",
            "step": 0.5,
            "_model_name": "FloatSliderModel",
            "orientation": "horizontal",
            "max": 30,
            "_view_module": "@jupyter-widgets/controls",
            "_model_module_version": "1.5.0",
            "value": 8,
            "_view_count": null,
            "disabled": false,
            "_view_module_version": "1.5.0",
            "min": 1,
            "continuous_update": true,
            "readout_format": ".2f",
            "description_tooltip": null,
            "readout": true,
            "_model_module": "@jupyter-widgets/controls",
            "layout": "IPY_MODEL_73922742e61f4dbabc6f532270ce043d"
          }
        },
        "6c452909ffee4495ba02dc7a161829de": {
          "model_module": "@jupyter-widgets/controls",
          "model_name": "FloatSliderModel",
          "state": {
            "_view_name": "FloatSliderView",
            "style": "IPY_MODEL_9daec64659154bd68196c939408e2d54",
            "_dom_classes": [],
            "description": "width",
            "step": 0.5,
            "_model_name": "FloatSliderModel",
            "orientation": "horizontal",
            "max": 30,
            "_view_module": "@jupyter-widgets/controls",
            "_model_module_version": "1.5.0",
            "value": 20,
            "_view_count": null,
            "disabled": false,
            "_view_module_version": "1.5.0",
            "min": 1,
            "continuous_update": true,
            "readout_format": ".2f",
            "description_tooltip": null,
            "readout": true,
            "_model_module": "@jupyter-widgets/controls",
            "layout": "IPY_MODEL_1ddd04306e7640f6ba5917696db4a545"
          }
        },
        "105524f92a0b4e82b3ad3bb77d09e27e": {
          "model_module": "@jupyter-widgets/output",
          "model_name": "OutputModel",
          "state": {
            "_view_name": "OutputView",
            "msg_id": "",
            "_dom_classes": [],
            "_model_name": "OutputModel",
            "outputs": [
              {
                "output_type": "pyerr",
                "metadata": {
                  "tags": []
                },
                "ename": "NameError",
                "evalue": "ignored",
                "traceback": [
                  "\u001b[0;31m---------------------------------------------------------------------------\u001b[0m",
                  "\u001b[0;31mNameError\u001b[0m                                 Traceback (most recent call last)",
                  "\u001b[0;32m/usr/local/lib/python3.7/dist-packages/ipywidgets/widgets/interaction.py\u001b[0m in \u001b[0;36mupdate\u001b[0;34m(self, *args)\u001b[0m\n\u001b[1;32m    254\u001b[0m                     \u001b[0mvalue\u001b[0m \u001b[0;34m=\u001b[0m \u001b[0mwidget\u001b[0m\u001b[0;34m.\u001b[0m\u001b[0mget_interact_value\u001b[0m\u001b[0;34m(\u001b[0m\u001b[0;34m)\u001b[0m\u001b[0;34m\u001b[0m\u001b[0;34m\u001b[0m\u001b[0m\n\u001b[1;32m    255\u001b[0m                     \u001b[0mself\u001b[0m\u001b[0;34m.\u001b[0m\u001b[0mkwargs\u001b[0m\u001b[0;34m[\u001b[0m\u001b[0mwidget\u001b[0m\u001b[0;34m.\u001b[0m\u001b[0m_kwarg\u001b[0m\u001b[0;34m]\u001b[0m \u001b[0;34m=\u001b[0m \u001b[0mvalue\u001b[0m\u001b[0;34m\u001b[0m\u001b[0;34m\u001b[0m\u001b[0m\n\u001b[0;32m--> 256\u001b[0;31m                 \u001b[0mself\u001b[0m\u001b[0;34m.\u001b[0m\u001b[0mresult\u001b[0m \u001b[0;34m=\u001b[0m \u001b[0mself\u001b[0m\u001b[0;34m.\u001b[0m\u001b[0mf\u001b[0m\u001b[0;34m(\u001b[0m\u001b[0;34m**\u001b[0m\u001b[0mself\u001b[0m\u001b[0;34m.\u001b[0m\u001b[0mkwargs\u001b[0m\u001b[0;34m)\u001b[0m\u001b[0;34m\u001b[0m\u001b[0;34m\u001b[0m\u001b[0m\n\u001b[0m\u001b[1;32m    257\u001b[0m                 \u001b[0mshow_inline_matplotlib_plots\u001b[0m\u001b[0;34m(\u001b[0m\u001b[0;34m)\u001b[0m\u001b[0;34m\u001b[0m\u001b[0;34m\u001b[0m\u001b[0m\n\u001b[1;32m    258\u001b[0m                 \u001b[0;32mif\u001b[0m \u001b[0mself\u001b[0m\u001b[0;34m.\u001b[0m\u001b[0mauto_display\u001b[0m \u001b[0;32mand\u001b[0m \u001b[0mself\u001b[0m\u001b[0;34m.\u001b[0m\u001b[0mresult\u001b[0m \u001b[0;32mis\u001b[0m \u001b[0;32mnot\u001b[0m \u001b[0;32mNone\u001b[0m\u001b[0;34m:\u001b[0m\u001b[0;34m\u001b[0m\u001b[0;34m\u001b[0m\u001b[0m\n",
                  "\u001b[0;32m<ipython-input-96-f4da04409238>\u001b[0m in \u001b[0;36mcmd_setup\u001b[0;34m(ra_min, ra_max, dec_min, dec_max, GridSize, height, width)\u001b[0m\n\u001b[1;32m     24\u001b[0m \u001b[0;34m\u001b[0m\u001b[0m\n\u001b[1;32m     25\u001b[0m     \u001b[0;34m\"\"\"HST sources 2d histogram\"\"\"\u001b[0m\u001b[0;34m\u001b[0m\u001b[0;34m\u001b[0m\u001b[0m\n\u001b[0;32m---> 26\u001b[0;31m     \u001b[0mhst_patch\u001b[0m\u001b[0;34m(\u001b[0m\u001b[0mra_min\u001b[0m\u001b[0;34m,\u001b[0m \u001b[0mra_max\u001b[0m\u001b[0;34m,\u001b[0m \u001b[0mdec_min\u001b[0m\u001b[0;34m,\u001b[0m \u001b[0mdec_max\u001b[0m\u001b[0;34m)\u001b[0m\u001b[0;34m\u001b[0m\u001b[0;34m\u001b[0m\u001b[0m\n\u001b[0m\u001b[1;32m     27\u001b[0m \u001b[0;34m\u001b[0m\u001b[0m\n\u001b[1;32m     28\u001b[0m     \u001b[0mds\u001b[0m \u001b[0;34m=\u001b[0m \u001b[0mvaex\u001b[0m\u001b[0;34m.\u001b[0m\u001b[0mopen\u001b[0m\u001b[0;34m(\u001b[0m\u001b[0mdatadir\u001b[0m\u001b[0;34m+\u001b[0m\u001b[0;34m'M33_full_matched.hdf5'\u001b[0m\u001b[0;34m)\u001b[0m\u001b[0;34m\u001b[0m\u001b[0;34m\u001b[0m\u001b[0m\n",
                  "\u001b[0;32m<ipython-input-81-8db9d6ff2f38>\u001b[0m in \u001b[0;36mhst_patch\u001b[0;34m(ra_min_1, ra_max_1, dec_min_1, dec_max_1)\u001b[0m\n\u001b[1;32m      1\u001b[0m \u001b[0;32mdef\u001b[0m \u001b[0mhst_patch\u001b[0m\u001b[0;34m(\u001b[0m\u001b[0mra_min_1\u001b[0m\u001b[0;34m,\u001b[0m \u001b[0mra_max_1\u001b[0m\u001b[0;34m,\u001b[0m \u001b[0mdec_min_1\u001b[0m\u001b[0;34m,\u001b[0m \u001b[0mdec_max_1\u001b[0m\u001b[0;34m)\u001b[0m\u001b[0;34m:\u001b[0m\u001b[0;34m\u001b[0m\u001b[0;34m\u001b[0m\u001b[0m\n\u001b[1;32m      2\u001b[0m     \u001b[0mds\u001b[0m \u001b[0;34m=\u001b[0m \u001b[0mvaex\u001b[0m\u001b[0;34m.\u001b[0m\u001b[0mopen\u001b[0m\u001b[0;34m(\u001b[0m\u001b[0mdatadir\u001b[0m\u001b[0;34m+\u001b[0m\u001b[0;34m'M33_full_matched.hdf5'\u001b[0m\u001b[0;34m)\u001b[0m\u001b[0;34m\u001b[0m\u001b[0;34m\u001b[0m\u001b[0m\n\u001b[0;32m----> 3\u001b[0;31m     \u001b[0mds\u001b[0m\u001b[0;34m.\u001b[0m\u001b[0mselect\u001b[0m\u001b[0;34m(\u001b[0m\u001b[0;34m(\u001b[0m\u001b[0mds\u001b[0m\u001b[0;34m.\u001b[0m\u001b[0mRA\u001b[0m \u001b[0;34m>\u001b[0m \u001b[0mra_min_1\u001b[0m\u001b[0;34m)\u001b[0m \u001b[0;34m&\u001b[0m \u001b[0;34m(\u001b[0m\u001b[0mRA\u001b[0m \u001b[0;34m<\u001b[0m \u001b[0mra_max_1\u001b[0m\u001b[0;34m)\u001b[0m \u001b[0;34m&\u001b[0m \u001b[0;34m(\u001b[0m\u001b[0mDEC\u001b[0m \u001b[0;34m>\u001b[0m \u001b[0mdec_min_1\u001b[0m\u001b[0;34m)\u001b[0m \u001b[0;34m&\u001b[0m \u001b[0;34m(\u001b[0m\u001b[0mDEC\u001b[0m \u001b[0;34m<\u001b[0m \u001b[0mdec_max_1\u001b[0m\u001b[0;34m)\u001b[0m\u001b[0;34m,\u001b[0m\u001b[0mname\u001b[0m\u001b[0;34m=\u001b[0m\u001b[0;34m'SUB'\u001b[0m\u001b[0;34m)\u001b[0m\u001b[0;34m\u001b[0m\u001b[0;34m\u001b[0m\u001b[0m\n\u001b[0m",
                  "\u001b[0;31mNameError\u001b[0m: name 'RA' is not defined"
                ]
              }
            ],
            "_view_module": "@jupyter-widgets/output",
            "_model_module_version": "1.0.0",
            "_view_count": null,
            "_view_module_version": "1.0.0",
            "layout": "IPY_MODEL_c95d6d83a9704d5293b911a076605159",
            "_model_module": "@jupyter-widgets/output"
          }
        },
        "efc335e37c804d7cae15eba04a88dd05": {
          "model_module": "@jupyter-widgets/controls",
          "model_name": "SliderStyleModel",
          "state": {
            "_view_name": "StyleView",
            "handle_color": null,
            "_model_name": "SliderStyleModel",
            "description_width": "",
            "_view_module": "@jupyter-widgets/base",
            "_model_module_version": "1.5.0",
            "_view_count": null,
            "_view_module_version": "1.2.0",
            "_model_module": "@jupyter-widgets/controls"
          }
        },
        "65e5b86fcb404a5f9da04b7b985cb333": {
          "model_module": "@jupyter-widgets/base",
          "model_name": "LayoutModel",
          "state": {
            "_view_name": "LayoutView",
            "grid_template_rows": null,
            "right": null,
            "justify_content": null,
            "_view_module": "@jupyter-widgets/base",
            "overflow": null,
            "_model_module_version": "1.2.0",
            "_view_count": null,
            "flex_flow": null,
            "width": null,
            "min_width": null,
            "border": null,
            "align_items": null,
            "bottom": null,
            "_model_module": "@jupyter-widgets/base",
            "top": null,
            "grid_column": null,
            "overflow_y": null,
            "overflow_x": null,
            "grid_auto_flow": null,
            "grid_area": null,
            "grid_template_columns": null,
            "flex": null,
            "_model_name": "LayoutModel",
            "justify_items": null,
            "grid_row": null,
            "max_height": null,
            "align_content": null,
            "visibility": null,
            "align_self": null,
            "height": null,
            "min_height": null,
            "padding": null,
            "grid_auto_rows": null,
            "grid_gap": null,
            "max_width": null,
            "order": null,
            "_view_module_version": "1.2.0",
            "grid_template_areas": null,
            "object_position": null,
            "object_fit": null,
            "grid_auto_columns": null,
            "margin": null,
            "display": null,
            "left": null
          }
        },
        "5360c63f30d64a66a31c720629674b72": {
          "model_module": "@jupyter-widgets/controls",
          "model_name": "SliderStyleModel",
          "state": {
            "_view_name": "StyleView",
            "handle_color": null,
            "_model_name": "SliderStyleModel",
            "description_width": "",
            "_view_module": "@jupyter-widgets/base",
            "_model_module_version": "1.5.0",
            "_view_count": null,
            "_view_module_version": "1.2.0",
            "_model_module": "@jupyter-widgets/controls"
          }
        },
        "73922742e61f4dbabc6f532270ce043d": {
          "model_module": "@jupyter-widgets/base",
          "model_name": "LayoutModel",
          "state": {
            "_view_name": "LayoutView",
            "grid_template_rows": null,
            "right": null,
            "justify_content": null,
            "_view_module": "@jupyter-widgets/base",
            "overflow": null,
            "_model_module_version": "1.2.0",
            "_view_count": null,
            "flex_flow": null,
            "width": null,
            "min_width": null,
            "border": null,
            "align_items": null,
            "bottom": null,
            "_model_module": "@jupyter-widgets/base",
            "top": null,
            "grid_column": null,
            "overflow_y": null,
            "overflow_x": null,
            "grid_auto_flow": null,
            "grid_area": null,
            "grid_template_columns": null,
            "flex": null,
            "_model_name": "LayoutModel",
            "justify_items": null,
            "grid_row": null,
            "max_height": null,
            "align_content": null,
            "visibility": null,
            "align_self": null,
            "height": null,
            "min_height": null,
            "padding": null,
            "grid_auto_rows": null,
            "grid_gap": null,
            "max_width": null,
            "order": null,
            "_view_module_version": "1.2.0",
            "grid_template_areas": null,
            "object_position": null,
            "object_fit": null,
            "grid_auto_columns": null,
            "margin": null,
            "display": null,
            "left": null
          }
        },
        "9daec64659154bd68196c939408e2d54": {
          "model_module": "@jupyter-widgets/controls",
          "model_name": "SliderStyleModel",
          "state": {
            "_view_name": "StyleView",
            "handle_color": null,
            "_model_name": "SliderStyleModel",
            "description_width": "",
            "_view_module": "@jupyter-widgets/base",
            "_model_module_version": "1.5.0",
            "_view_count": null,
            "_view_module_version": "1.2.0",
            "_model_module": "@jupyter-widgets/controls"
          }
        },
        "1ddd04306e7640f6ba5917696db4a545": {
          "model_module": "@jupyter-widgets/base",
          "model_name": "LayoutModel",
          "state": {
            "_view_name": "LayoutView",
            "grid_template_rows": null,
            "right": null,
            "justify_content": null,
            "_view_module": "@jupyter-widgets/base",
            "overflow": null,
            "_model_module_version": "1.2.0",
            "_view_count": null,
            "flex_flow": null,
            "width": null,
            "min_width": null,
            "border": null,
            "align_items": null,
            "bottom": null,
            "_model_module": "@jupyter-widgets/base",
            "top": null,
            "grid_column": null,
            "overflow_y": null,
            "overflow_x": null,
            "grid_auto_flow": null,
            "grid_area": null,
            "grid_template_columns": null,
            "flex": null,
            "_model_name": "LayoutModel",
            "justify_items": null,
            "grid_row": null,
            "max_height": null,
            "align_content": null,
            "visibility": null,
            "align_self": null,
            "height": null,
            "min_height": null,
            "padding": null,
            "grid_auto_rows": null,
            "grid_gap": null,
            "max_width": null,
            "order": null,
            "_view_module_version": "1.2.0",
            "grid_template_areas": null,
            "object_position": null,
            "object_fit": null,
            "grid_auto_columns": null,
            "margin": null,
            "display": null,
            "left": null
          }
        },
        "c95d6d83a9704d5293b911a076605159": {
          "model_module": "@jupyter-widgets/base",
          "model_name": "LayoutModel",
          "state": {
            "_view_name": "LayoutView",
            "grid_template_rows": null,
            "right": null,
            "justify_content": null,
            "_view_module": "@jupyter-widgets/base",
            "overflow": null,
            "_model_module_version": "1.2.0",
            "_view_count": null,
            "flex_flow": null,
            "width": null,
            "min_width": null,
            "border": null,
            "align_items": null,
            "bottom": null,
            "_model_module": "@jupyter-widgets/base",
            "top": null,
            "grid_column": null,
            "overflow_y": null,
            "overflow_x": null,
            "grid_auto_flow": null,
            "grid_area": null,
            "grid_template_columns": null,
            "flex": null,
            "_model_name": "LayoutModel",
            "justify_items": null,
            "grid_row": null,
            "max_height": null,
            "align_content": null,
            "visibility": null,
            "align_self": null,
            "height": null,
            "min_height": null,
            "padding": null,
            "grid_auto_rows": null,
            "grid_gap": null,
            "max_width": null,
            "order": null,
            "_view_module_version": "1.2.0",
            "grid_template_areas": null,
            "object_position": null,
            "object_fit": null,
            "grid_auto_columns": null,
            "margin": null,
            "display": null,
            "left": null
          }
        }
      }
    }
  },
  "cells": [
    {
      "cell_type": "markdown",
      "metadata": {
        "id": "view-in-github",
        "colab_type": "text"
      },
      "source": [
        "<a href=\"https://colab.research.google.com/github/tmsandford/M33_Matching/blob/main/Auto_CMD.ipynb\" target=\"_parent\"><img src=\"https://colab.research.google.com/assets/colab-badge.svg\" alt=\"Open In Colab\"/></a>"
      ]
    },
    {
      "cell_type": "code",
      "metadata": {
        "id": "RhahLPMSlZwC"
      },
      "source": [
        "%%capture\n",
        "!pip install --upgrade pip\n",
        "!pip install vaex\n",
        "!pip install -Iv ipython==7.0.0\n",
        "!pip install astroquery\n",
        "!sudo pip install numpy --upgrade --ignore-installed\n",
        "\n",
        "#Restart runtime!"
      ],
      "execution_count": null,
      "outputs": []
    },
    {
      "cell_type": "code",
      "metadata": {
        "id": "OApnFTEulmL2"
      },
      "source": [
        "import sys\n",
        "from astroquery.irsa import Irsa\n",
        "import numpy as np\n",
        "from astropy import units as u\n",
        "from astropy.coordinates import SkyCoord\n",
        "import matplotlib as mpl\n",
        "import matplotlib.pyplot as plt\n",
        "import pandas as pd\n",
        "from ipywidgets import interact, fixed\n",
        "import vaex\n"
      ],
      "execution_count": null,
      "outputs": []
    },
    {
      "cell_type": "code",
      "metadata": {
        "colab": {
          "base_uri": "https://localhost:8080/"
        },
        "id": "UATERKjPlrDZ",
        "outputId": "69f5e63c-1505-4fe4-a6a7-ec63aa2de636"
      },
      "source": [
        "from google.colab import drive\n",
        "drive.mount('/content/gdrive',force_remount=True)\n",
        "sys.path.append('/content/gdrive/My Drive/Colab Notebooks/')\n",
        "datadir = '/content/gdrive/My Drive/Colab Notebooks/'"
      ],
      "execution_count": null,
      "outputs": [
        {
          "output_type": "stream",
          "text": [
            "Mounted at /content/gdrive\n"
          ],
          "name": "stdout"
        }
      ]
    },
    {
      "cell_type": "code",
      "metadata": {
        "id": "eEHQqFvtmJZx"
      },
      "source": [
        "def f_to_mag(flux):\n",
        "    \"\"\"Converts unWISE flux to Vega magnitude\"\"\"\n",
        "    result = 22.5 - 2.5 * np.log10(flux)\n",
        "    return result"
      ],
      "execution_count": null,
      "outputs": []
    },
    {
      "cell_type": "code",
      "metadata": {
        "id": "F2h7rBMLmVxI"
      },
      "source": [
        "def cmd_setup(ra_min, ra_max, dec_min, dec_max, GridSize=100, height=8, width=20):\n",
        "   \n",
        "    \"\"\"unWISE sources scatter plot\"\"\"\n",
        "    Irsa.ROW_LIMIT = 100000\n",
        "    data_table = Irsa.query_region(\"m33\", catalog=\"unwise_2019\", spatial=\"Polygon\",\n",
        "            polygon=[SkyCoord(ra=ra_min,dec=dec_min,unit=(u.deg,u.deg),frame='icrs'),\n",
        "                     SkyCoord(ra=ra_max,dec=dec_min,unit=(u.deg,u.deg),frame='icrs'),\n",
        "                     SkyCoord(ra=ra_max,dec=dec_max,unit=(u.deg,u.deg),frame='icrs'),\n",
        "                     SkyCoord(ra=ra_min,dec=dec_max,unit=(u.deg,u.deg),frame='icrs')])\n",
        "    \n",
        "    data_table['W1'] = f_to_mag(data_table['flux_1'])\n",
        "    data_table['W2'] = f_to_mag(data_table['flux_2'])\n",
        "    data_table['W2 - W1'] = data_table['W2'] - data_table['W1']\n",
        "    \n",
        "    fig, ax = plt.subplots(1,1)\n",
        "    fig.set_figheight(10)\n",
        "    fig.set_figwidth(10)\n",
        "    \n",
        "    ax.set_xlabel('W2 - W1', fontsize=20)\n",
        "    ax.set_ylabel('W2', fontsize=20)\n",
        "    ax.scatter(data_table['W2 - W1'],data_table['W2'], s=10,c='black')\n",
        "    ax.set_ylim(ax.get_ylim()[::-1])\n",
        "    ax.set_title('unWISE', size=20)\n",
        "    \n",
        "    \"\"\"HST sources 2d histogram\"\"\"\n",
        "    hst_patch(ra_min, ra_max, dec_min, dec_max)\n",
        "    \n",
        "    ds = vaex.open(datadir+'M33_full_matched.hdf5')\n",
        "    ds.select((ds.RA > ra_min) & (ds.RA < ra_max) & (ds.DEC > dec_min) & (ds.DEC < dec_max),name='SUB')\n",
        "    import img_scale\n",
        "    \n",
        "    ra,dec = ds.RA.evaluate(selection='SUB'),ds.DEC.evaluate(selection='SUB')\n",
        "    ra_m33, dec_m33 = 23.462*u.deg, 30.66*u.deg\n",
        "    aspect_ratio = (ra.max()-ra.min())*np.cos(np.pi/180.*dec_m33) / (dec.max()-dec.min())\n",
        "\n",
        "\n",
        "    ds['F275W_F336W'] = ds.F275W_VEGA - ds.F336W_VEGA\n",
        "\n",
        "    F275W_F336W,F336W = ds.F275W_F336W.evaluate(selection='SUB'),ds.F336W_VEGA.evaluate(selection='SUB')\n",
        "\n",
        "    n = 300\n",
        "    hall,h275_336,h336 = np.histogram2d(F275W_F336W,F336W,\n",
        "                              bins=[int(n*aspect_ratio),n],\n",
        "                              range=[(-5.5,5.5), (18, 34)],\n",
        "                              density=False)\n",
        "\n",
        "    hall_scaled = img_scale.log(hall,scale_min=1,scale_max=100)\n",
        "\n",
        "    fig = plt.figure()\n",
        "    fig.set_figwidth(10)\n",
        "    fig.set_figheight(10)\n",
        "    ax = plt.subplot(111)\n",
        "    ax.set_xlabel('F275W-F336W')\n",
        "    ax.set_ylabel('F336W')\n",
        "\n",
        "    colormap = 'viridis'\n",
        "    cmap = getattr(mpl.cm, colormap)\n",
        "    cmap.set_under('w')\n",
        "\n",
        "    im = ax.imshow(hall_scaled.T,aspect='auto',\n",
        "               interpolation='nearest',origin='lower',\n",
        "               extent=[h275_336[0],h275_336[-1],h336[0],h336[-1]],\n",
        "               cmap=cmap,vmin=0.01,vmax=1)\n",
        "\n",
        "    ax.set_ylim(ax.get_ylim()[::-1])\n",
        "\n",
        "\n",
        "\n",
        "\n",
        "\n",
        "\n"
      ],
      "execution_count": null,
      "outputs": []
    },
    {
      "cell_type": "code",
      "metadata": {
        "id": "OH1qKjbbrIoy"
      },
      "source": [
        "def cmds(ra_min_2, ra_max_2, dec_min_2, dec_max_2):\n",
        "    interact(cmd_setup, ra_min=fixed(ra_min_2), ra_max=fixed(ra_max_2),\n",
        "             dec_min=fixed(dec_min_2), dec_max=fixed(dec_max_2), \n",
        "             GridSize=(50,600,1), height=(1,30,0.5), width=(1,30,0.5)\n",
        "            )"
      ],
      "execution_count": null,
      "outputs": []
    },
    {
      "cell_type": "code",
      "metadata": {
        "colab": {
          "base_uri": "https://localhost:8080/",
          "height": 1000,
          "referenced_widgets": [
            "b8080307d3684771a44fc7fffac88a6a",
            "b439e86842f54ee0a827146bb904363b",
            "5f70c4ed3bc7418f8d3046222bcc9365",
            "88551cee32534e7a834ac80d5d787132",
            "6c452909ffee4495ba02dc7a161829de",
            "105524f92a0b4e82b3ad3bb77d09e27e",
            "efc335e37c804d7cae15eba04a88dd05",
            "65e5b86fcb404a5f9da04b7b985cb333",
            "5360c63f30d64a66a31c720629674b72",
            "73922742e61f4dbabc6f532270ce043d",
            "9daec64659154bd68196c939408e2d54",
            "1ddd04306e7640f6ba5917696db4a545",
            "c95d6d83a9704d5293b911a076605159"
          ]
        },
        "id": "_Wc4WcoJrNEJ",
        "outputId": "64b2d36b-e2ad-4e82-ae83-4a6d68d28df4"
      },
      "source": [
        "cmds(23.43, 23.6, 30.71, 30.81)"
      ],
      "execution_count": null,
      "outputs": [
        {
          "output_type": "display_data",
          "data": {
            "application/vnd.jupyter.widget-view+json": {
              "model_id": "b8080307d3684771a44fc7fffac88a6a",
              "version_minor": 0,
              "version_major": 2
            },
            "text/plain": [
              "interactive(children=(IntSlider(value=100, description='GridSize', max=600, min=50), FloatSlider(value=8.0, de…"
            ]
          },
          "metadata": {
            "tags": []
          }
        },
        {
          "output_type": "display_data",
          "data": {
            "image/png": "[encoded data removed]",
            "text/plain": [
              "<Figure size 720x720 with 1 Axes>"
            ]
          },
          "metadata": {
            "tags": [],
            "needs_background": "light"
          }
        }
      ]
    },
    {
      "cell_type": "code",
      "metadata": {
        "id": "Uuzqd34truXw"
      },
      "source": [
        ""
      ],
      "execution_count": null,
      "outputs": []
    }
  ]
}