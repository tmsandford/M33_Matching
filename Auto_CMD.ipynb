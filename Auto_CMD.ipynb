{
  "nbformat": 4,
  "nbformat_minor": 0,
  "metadata": {
    "colab": {
      "name": "Auto_CMD.ipynb",
      "provenance": [],
      "collapsed_sections": [],
      "include_colab_link": true
    },
    "kernelspec": {
      "name": "python3",
      "display_name": "Python 3"
    },
    "language_info": {
      "name": "python"
    }
  },
  "cells": [
    {
      "cell_type": "markdown",
      "metadata": {
        "id": "view-in-github",
        "colab_type": "text"
      },
      "source": [
        "<a href=\"https://colab.research.google.com/github/tmsandford/M33_Matching/blob/main/Auto_CMD.ipynb\" target=\"_parent\"><img src=\"https://colab.research.google.com/assets/colab-badge.svg\" alt=\"Open In Colab\"/></a>"
      ]
    },
    {
      "cell_type": "code",
      "metadata": {
        "id": "RhahLPMSlZwC"
      },
      "source": [
        "%%capture\n",
        "!pip install --upgrade pip\n",
        "!pip install vaex\n",
        "!pip install -Iv ipython==7.0.0\n",
        "!pip install astroquery\n",
        "!sudo pip install numpy --upgrade --ignore-installed\n",
        "\n",
        "#Restart runtime!"
      ],
      "execution_count": 2,
      "outputs": []
    },
    {
      "cell_type": "code",
      "metadata": {
        "id": "OApnFTEulmL2"
      },
      "source": [
        "import sys\n",
        "from astroquery.irsa import Irsa\n",
        "import numpy as np\n",
        "from astropy import units as u\n",
        "from astropy.coordinates import SkyCoord\n",
        "import matplotlib as mpl\n",
        "import matplotlib.pyplot as plt\n",
        "import pandas as pd\n",
        "from ipywidgets import interact, fixed\n",
        "import vaex\n"
      ],
      "execution_count": 2,
      "outputs": []
    },
    {
      "cell_type": "code",
      "metadata": {
        "colab": {
          "base_uri": "https://localhost:8080/"
        },
        "id": "UATERKjPlrDZ",
        "outputId": "53f13221-11a7-4d50-a4f6-9027aee38db4"
      },
      "source": [
        "from google.colab import drive\n",
        "drive.mount('/content/gdrive',force_remount=True)\n",
        "sys.path.append('/content/gdrive/My Drive/Colab Notebooks/')\n",
        "datadir = '/content/gdrive/My Drive/Colab Notebooks/'"
      ],
      "execution_count": 3,
      "outputs": [
        {
          "output_type": "stream",
          "text": [
            "Mounted at /content/gdrive\n"
          ],
          "name": "stdout"
        }
      ]
    },
    {
      "cell_type": "code",
      "metadata": {
        "id": "eEHQqFvtmJZx"
      },
      "source": [
        "def f_to_mag(flux):\n",
        "    \"\"\"Converts unWISE flux to Vega magnitude\"\"\"\n",
        "    result = 22.5 - 2.5 * np.log10(flux)\n",
        "    return result"
      ],
      "execution_count": 4,
      "outputs": []
    },
    {
      "cell_type": "code",
      "metadata": {
        "id": "F2h7rBMLmVxI"
      },
      "source": [
        "def cmd_setup(ra_min, ra_max, dec_min, dec_max, n=300):\n",
        "   \n",
        "    \"\"\"unWISE sources scatter plot\"\"\"\n",
        "    Irsa.ROW_LIMIT = 100000\n",
        "    data_table = Irsa.query_region(\"m33\", catalog=\"unwise_2019\", spatial=\"Polygon\",\n",
        "            polygon=[SkyCoord(ra=ra_min,dec=dec_min,unit=(u.deg,u.deg),frame='icrs'),\n",
        "                     SkyCoord(ra=ra_max,dec=dec_min,unit=(u.deg,u.deg),frame='icrs'),\n",
        "                     SkyCoord(ra=ra_max,dec=dec_max,unit=(u.deg,u.deg),frame='icrs'),\n",
        "                     SkyCoord(ra=ra_min,dec=dec_max,unit=(u.deg,u.deg),frame='icrs')])\n",
        "    \n",
        "    data_table['W1'] = f_to_mag(data_table['flux_1'])\n",
        "    data_table['W2'] = f_to_mag(data_table['flux_2'])\n",
        "    data_table['W2 - W1'] = data_table['W2'] - data_table['W1']\n",
        "    \n",
        "    fig, (ax1, ax2, ax3, ax4) = plt.subplots(2,2)\n",
        "    fig.set_figheight(10)\n",
        "    fig.set_figwidth(25)\n",
        "    \n",
        "    ax1.set_xlabel('W2 - W1', fontsize=20)\n",
        "    ax1.set_ylabel('W2', fontsize=20)\n",
        "    ax1.scatter(data_table['W2 - W1'],data_table['W2'], s=10,c='black')\n",
        "    ax1.set_ylim(ax1.get_ylim()[::-1])\n",
        "    ax1.set_title('unWISE', size=20)\n",
        "    \n",
        "    \"\"\"HST sources 2d histogram\"\"\"  \n",
        "    ds = vaex.open(datadir+'M33_full_matched.hdf5')\n",
        "    ds.select((ds.RA > ra_min) & (ds.RA < ra_max) & (ds.DEC > dec_min) & (ds.DEC < dec_max),name='SUB')\n",
        "    import img_scale\n",
        "    \n",
        "    ra,dec = ds.RA.evaluate(selection='SUB'),ds.DEC.evaluate(selection='SUB')\n",
        "    ra_m33, dec_m33 = 23.462*u.deg, 30.66*u.deg\n",
        "    aspect_ratio = (ra.max()-ra.min())*np.cos(np.pi/180.*dec_m33) / (dec.max()-dec.min())\n",
        "    colormap = 'viridis'\n",
        "    cmap = getattr(mpl.cm, colormap)\n",
        "    cmap.set_under('w')\n",
        "\n",
        "    ####F110W-F160W\n",
        "\n",
        "    ds['F110W_F160W'] = ds.F110W_VEGA - ds.F160W_VEGA\n",
        "    F110W_F160W,F160W = ds.F110W_F160W.evaluate(selection='SUB'),ds.F160W_VEGA.evaluate(selection='SUB')\n",
        "    hall_1,h110_160,h160 = np.histogram2d(F110W_F160W,F160W,\n",
        "                              bins=[int(n*aspect_ratio),n],\n",
        "                              range=[(-5.5,5.5), (18, 34)],\n",
        "                              density=False)\n",
        "\n",
        "    hall_scaled1 = img_scale.log(hall_1,scale_min=1,scale_max=100);\n",
        "\n",
        "    ax2.set_xlabel('F110W-F160W', fontsize=20)\n",
        "    ax2.set_ylabel('F160W', fontsize=20)\n",
        "\n",
        "    im2 = ax2.imshow(hall_scaled1.T,aspect='auto',\n",
        "               interpolation='nearest',origin='lower',\n",
        "               extent=[h110_160[0],h110_160[-1],h160[0],h160[-1]],\n",
        "               cmap=cmap,vmin=0.01,vmax=1)\n",
        "\n",
        "    ax2.set_ylim(ax2.get_ylim()[::-1])\n",
        "\n",
        "\n",
        "    ###F814W-F110W\n",
        "\n",
        "    ds['F814W_F110W'] = ds.F814W_VEGA - ds.F110W_VEGA\n",
        "    F814W_F110W,F110W = ds.F814W_F110W.evaluate(selection='SUB'),ds.F110W_VEGA.evaluate(selection='SUB')\n",
        "    hall_1,h814_110,h110 = np.histogram2d(F814W_F110W,F110W,\n",
        "                              bins=[int(n*aspect_ratio),n],\n",
        "                              range=[(-5.5,5.5), (18, 34)],\n",
        "                              density=False)\n",
        "\n",
        "    hall_scaled1 = img_scale.log(hall_1,scale_min=1,scale_max=100);\n",
        "\n",
        "    ax2.set_xlabel('F814W-F110W', fontsize=20)\n",
        "    ax2.set_ylabel('F110W', fontsize=20)\n",
        "\n",
        "    im2 = ax2.imshow(hall_scaled1.T,aspect='auto',\n",
        "               interpolation='nearest',origin='lower',\n",
        "               extent=[h814_110[0],h814_110[-1],h110[0],h110[-1]],\n",
        "               cmap=cmap,vmin=0.01,vmax=1)\n",
        "\n",
        "    ax2.set_ylim(ax2.get_ylim()[::-1])\n",
        "\n",
        "    ###F475W-F814W\n",
        "\n",
        "    ds['F475W_F814W'] = ds.F475W_VEGA - ds.F814W_VEGA\n",
        "    F475W_F814W,F814W = ds.F475W_F814W.evaluate(selection='SUB'),ds.F814W_VEGA.evaluate(selection='SUB')\n",
        "    hall_1,h475_814,h814 = np.histogram2d(F475W_F814W,F814W,\n",
        "                              bins=[int(n*aspect_ratio),n],\n",
        "                              range=[(-5.5,5.5), (18, 34)],\n",
        "                              density=False)\n",
        "\n",
        "    hall_scaled1 = img_scale.log(hall_1,scale_min=1,scale_max=100);\n",
        "\n",
        "    ax2.set_xlabel('F475W-F814W', fontsize=20)\n",
        "    ax2.set_ylabel('F814W', fontsize=20)\n",
        "\n",
        "    im2 = ax2.imshow(hall_scaled1.T,aspect='auto',\n",
        "               interpolation='nearest',origin='lower',\n",
        "               extent=[h475_814[0],h475_814[-1],h814[0],h814[-1]],\n",
        "               cmap=cmap,vmin=0.01,vmax=1)\n",
        "\n",
        "    ax2.set_ylim(ax2.get_ylim()[::-1])\n",
        "\n",
        "\n",
        "\n",
        "\n",
        "\n",
        "\n"
      ],
      "execution_count": 5,
      "outputs": []
    },
    {
      "cell_type": "code",
      "metadata": {
        "id": "OH1qKjbbrIoy"
      },
      "source": [
        "def cmds(ra_min_2, ra_max_2, dec_min_2, dec_max_2):\n",
        "    interact(cmd_setup, ra_min=fixed(ra_min_2), ra_max=fixed(ra_max_2),\n",
        "             dec_min=fixed(dec_min_2), dec_max=fixed(dec_max_2), \n",
        "             n=(100,600,10)\n",
        "             )"
      ],
      "execution_count": 6,
      "outputs": []
    },
    {
      "cell_type": "code",
      "metadata": {
        "id": "_Wc4WcoJrNEJ"
      },
      "source": [
        "#cmds(23.43, 23.6, 30.71, 30.81)"
      ],
      "execution_count": 1,
      "outputs": []
    }
  ]
}